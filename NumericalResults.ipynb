{
 "cells": [
  {
   "cell_type": "markdown",
   "id": "7a8fe2d6-0e66-4800-b6b6-a5aea3122aed",
   "metadata": {},
   "source": [
    "# Deterministic optimisation (using the fluid model)\n",
    "\n",
    "Here we optimise over several deterministic objective functions evaluated using the fluid flow model. \n",
    "\n",
    "We start by giving an illustrative example of the dynamics of the unsheltered queue $u_t$ given by our fluid model, given inputs for $X_0, \\mu_0$ and $\\lambda_t, h_t, s_t$ for all $t \\in \\{1,...,T\\}$ which we take directly from the simulation model of Singham et al (2023) (see right hand side of Fig 2 with 70% investment in housing and no decrease in shelter)."
   ]
  },
  {
   "cell_type": "code",
   "execution_count": 1,
   "id": "381b6412-7899-49e8-8571-ec0ee10f893e",
   "metadata": {},
   "outputs": [
    {
     "ename": "ModuleNotFoundError",
     "evalue": "No module named 'simpy'",
     "output_type": "error",
     "traceback": [
      "\u001b[0;31m---------------------------------------------------------------------------\u001b[0m",
      "\u001b[0;31mModuleNotFoundError\u001b[0m                       Traceback (most recent call last)",
      "Cell \u001b[0;32mIn[1], line 3\u001b[0m\n\u001b[1;32m      1\u001b[0m \u001b[38;5;28;01mimport\u001b[39;00m\u001b[38;5;250m \u001b[39m\u001b[38;5;21;01mjson\u001b[39;00m\n\u001b[1;32m      2\u001b[0m \u001b[38;5;28;01mimport\u001b[39;00m\u001b[38;5;250m \u001b[39m\u001b[38;5;21;01mfluid_flow_model\u001b[39;00m\u001b[38;5;250m \u001b[39m\u001b[38;5;28;01mas\u001b[39;00m\u001b[38;5;250m \u001b[39m\u001b[38;5;21;01mfl\u001b[39;00m\n\u001b[0;32m----> 3\u001b[0m \u001b[38;5;28;01mimport\u001b[39;00m\u001b[38;5;250m \u001b[39m\u001b[38;5;21;01msimulation_model\u001b[39;00m\u001b[38;5;250m \u001b[39m\u001b[38;5;28;01mas\u001b[39;00m\u001b[38;5;250m \u001b[39m\u001b[38;5;21;01msm\u001b[39;00m\n\u001b[1;32m      4\u001b[0m \u001b[38;5;28;01mimport\u001b[39;00m\u001b[38;5;250m \u001b[39m\u001b[38;5;21;01mdeterministic_optimisation\u001b[39;00m\u001b[38;5;250m \u001b[39m\u001b[38;5;28;01mas\u001b[39;00m\u001b[38;5;250m \u001b[39m\u001b[38;5;21;01mdo\u001b[39;00m\n\u001b[1;32m      5\u001b[0m \u001b[38;5;28;01mimport\u001b[39;00m\u001b[38;5;250m \u001b[39m\u001b[38;5;21;01mmatplotlib\u001b[39;00m\u001b[38;5;21;01m.\u001b[39;00m\u001b[38;5;21;01mpyplot\u001b[39;00m\u001b[38;5;250m \u001b[39m\u001b[38;5;28;01mas\u001b[39;00m\u001b[38;5;250m \u001b[39m\u001b[38;5;21;01mplt\u001b[39;00m\n",
      "File \u001b[0;32m~/GitHub/psor-paper-housing/simulation_model.py:1\u001b[0m\n\u001b[0;32m----> 1\u001b[0m \u001b[38;5;28;01mimport\u001b[39;00m\u001b[38;5;250m \u001b[39m\u001b[38;5;21;01msimpy\u001b[39;00m\n\u001b[1;32m      2\u001b[0m \u001b[38;5;28;01mimport\u001b[39;00m\u001b[38;5;250m \u001b[39m\u001b[38;5;21;01mmath\u001b[39;00m\n\u001b[1;32m      3\u001b[0m \u001b[38;5;28;01mimport\u001b[39;00m\u001b[38;5;250m \u001b[39m\u001b[38;5;21;01mcollections\u001b[39;00m\n",
      "\u001b[0;31mModuleNotFoundError\u001b[0m: No module named 'simpy'"
     ]
    }
   ],
   "source": [
    "import json\n",
    "import fluid_flow_model as fl\n",
    "import simulation_model as sm\n",
    "import deterministic_optimisation as do\n",
    "import matplotlib.pyplot as plt\n",
    "import math\n",
    "import numpy as np\n",
    "import time"
   ]
  },
  {
   "cell_type": "code",
   "execution_count": null,
   "id": "1f1df6cb-1428-4104-86ea-bb537ffe2fc9",
   "metadata": {},
   "outputs": [],
   "source": [
    "# Get data\n",
    "with open('data_singham23.json') as json_file:\n",
    "    data = json.load(json_file)\n",
    "\n",
    "# Modelling horizonT_a is decision horizon, T_b is extra modelling horizon - here set to 0\n",
    "T_a = 5\n",
    "T_b = 0\n",
    "\n",
    "# Modeling\n",
    "model = fl.FluidFlowModel(data, data['solution'], T_a, T_b)\n",
    "T = [i/365 for i in range((T_a+T_b)*365)]\n",
    "model.analyse(T)\n",
    "\n",
    "# Plotting\n",
    "fig, ax = plt.subplots()\n",
    "ymax = max(model.h_t + model.sh_t + model.unsh_t)\n",
    "x = [t/365 for t in range((T_a+T_b)*365)]\n",
    "ax.plot(x, model.h_t, color = 'green')\n",
    "ax.plot(x, model.sh_t, color = 'orange')\n",
    "ax.plot(x, model.unsh_t, color = 'red')\n",
    "ax.set(xlabel=\"$d/365$ (Time in years)\", ylabel='Number of people',\n",
    "       title='Number of people housed/sheltered/unsheltered')\n",
    "ax.legend([\"$h_d$\", \"$s_d$\", \"$u_d$\"], loc=\"upper left\")\n",
    "ax.grid()\n",
    "ax.set_ylim(0,ymax*1.05)\n",
    "plt.show()"
   ]
  },
  {
   "cell_type": "markdown",
   "id": "9cceefad-80ad-4cab-9870-5e05b9a034b2",
   "metadata": {},
   "source": [
    "####  $\\Phi_0$ : linear penalty unsheltered Q and sheltered Q\n",
    "    # min TimeAvg(E[unsh(t) + c*E[sh(t)]])\n",
    "    # s.t. total budget constraint\n",
    "    #      annual minimum build constraint"
   ]
  },
  {
   "cell_type": "code",
   "execution_count": null,
   "id": "60bd51f5-0bf7-4884-ab70-6f98dd49435e",
   "metadata": {},
   "outputs": [],
   "source": [
    "import deterministic_optimisation as do\n",
    "import fluid_flow_model as fl\n",
    "\n",
    "# Set data for system behaviour\n",
    "data = {'initial_capacity' : {'housing':4000, 'shelter':1500},\n",
    "        'initial_demand' : 12000, # initial number of people in system\n",
    "        'service_mean' : {'housing': 4.0, 'shelter': 0.0}, # in years\n",
    "        'arrival_rates' : [10.0]*5 + [6.0]*5,\n",
    "        'budget' : 200000000.0, # in dollars\n",
    "        'costs_accomm' : {'housing' : 30000.0, 'shelter' : 10000.0}, # cost in dollars per unit\n",
    "        'baseline_build' : 500} # how many housing units and shelter units we must build at least each year\n",
    "\n",
    "# Set modeliing options\n",
    "modeling_options = {'T_a' : 5, # in days: modelling and building\n",
    "                    'T_b' : 5, # in days: extra modelling following all building\n",
    "                    'model' : do.FluidModel}"
   ]
  },
  {
   "cell_type": "code",
   "execution_count": null,
   "id": "cbb3257d-4120-49b1-a997-7b57a2e20c3b",
   "metadata": {},
   "outputs": [],
   "source": [
    "# Set up problem and solve\n",
    "problem0 = do.Phi0(data, modeling_options, 'phi0', c=0.3)\n",
    "tic = time.perf_counter()\n",
    "problem0.solve('glpk')\n",
    "toc = time.perf_counter()\n",
    "print('solved in '+str(toc-tic) + ' seconds.')"
   ]
  },
  {
   "cell_type": "markdown",
   "id": "8d938588-ea65-4fe2-b829-bf2c0ce0ce58",
   "metadata": {},
   "source": [
    "####  $\\Phi_1$ : quadratic penalty unsheltered Q and sheltered Q\n",
    "    # min TimeAvg(E[unsh(t)^2] + c*E[sh(t)^2])\n",
    "    # s.t. total budget constraint\n",
    "    #      annual minimum build constraint\n",
    "\n",
    "A quadratic objective function discourages the spending of all surplus budget on one type of accommodation and balances the unshelterd and sheltered queues. We note here that: \n",
    "\n",
    "* **Shelter** quickly reduces the unsheltered queue, at the expense of a large **sheltered** population.\n",
    "* **Housing** gives long-term relief to the system, with an initial large **unsheltered** population.  "
   ]
  },
  {
   "cell_type": "code",
   "execution_count": null,
   "id": "f1c8e159",
   "metadata": {},
   "outputs": [],
   "source": [
    "# Set up problem and solve\n",
    "problem1 = do.Phi1(data, modeling_options, 'phi1', c=0.3)\n",
    "tic = time.perf_counter()\n",
    "problem1.solve('ipopt')\n",
    "toc = time.perf_counter()\n",
    "print('solved in '+str(toc-tic) + ' seconds.')"
   ]
  },
  {
   "cell_type": "markdown",
   "id": "b13e2092",
   "metadata": {},
   "source": [
    "####  $\\Phi_2$ : Add shape constraints\n",
    "    # min TimeAvg(E[unsh(t)^2] + c*E[sh(t)^2])\n",
    "    # s.t. total budget constraint\n",
    "    #      shape constraint on house building rate: positive and non-decreasing\n",
    "    #      shape constraint on shelter building rate: positive and non-decreasing then negative. \n",
    "\n",
    "We here add shape constraints to reflect the fact that: \n",
    "\n",
    "* A five-year budget should be spread out across that horizon rather than being used predominantly in the first year.\n",
    "* We would like the house building rate to at least stay the same over time, or even ramp up. \n",
    "* We would like to encourage a negative shelter build rate towards the end of the horizon to allow the 'conversion' of shelter to housing.\n",
    "\n",
    "When optimising over the quadratic objective function, we find an optimal solution which has the following features: \n",
    "\n",
    "* A constant house building rate over the decision horizon. \n",
    "* An initial ramp up of shelter is able to bring the unshelterd queue down.\n",
    "* Subsequent conversion of shelter to housing makes it affordable to build sufficient housing to obtain a service rate in the long run which is greater than the arrival rate of $2500 \\text{ arrivals per year}$.\n",
    "* The price to pay for conversion is an increased unsheltered population in the short term. "
   ]
  },
  {
   "cell_type": "code",
   "execution_count": null,
   "id": "862617e4-f464-4999-b51f-f6d4cc167cd9",
   "metadata": {},
   "outputs": [],
   "source": [
    "# Set up problem and solve\n",
    "problem2 = do.Phi2(data, modeling_options, 'phi2', c=0.3, shelter_mode = 3)\n",
    "tic = time.perf_counter()\n",
    "problem2.solve('ipopt')\n",
    "toc = time.perf_counter()\n",
    "print('solved in '+str(toc-tic) + ' seconds.')"
   ]
  },
  {
   "cell_type": "code",
   "execution_count": null,
   "id": "c5d1ab2b-f95f-4fd6-ba10-97e282c48020",
   "metadata": {},
   "outputs": [],
   "source": [
    "import pandas as pd\n",
    "df = [['$\\Phi_0$']+['Housing']+[str(problem0.problem.data['initial_capacity']['housing'])]+[str(int(round(problem0.h_opt[i],0))) + ' (' + '{:.01%}'.format(((problem0.h_opt[i]-problem0.h_opt[i-1])*problem0.problem.costs_accomm['housing'])/(problem0.problem.budget)) + ')' for i in range(1,len(problem0.h_opt))],\n",
    "       ['']+['Shelter']+[str(problem0.problem.data['initial_capacity']['shelter'])]+[str(int(round(problem0.s_opt[i],0))) + ' (' + '{:.01%}'.format(((problem0.s_opt[i]-problem0.s_opt[i-1])*problem0.problem.costs_accomm['shelter'])/(problem0.problem.budget)) + ')' for i in range(1,len(problem0.s_opt))],\n",
    "       ['$\\Phi_1$']+['Housing']+[str(problem1.problem.data['initial_capacity']['housing'])]+[str(int(round(problem1.h_opt[i],0))) + ' (' + '{:.01%}'.format(((problem1.h_opt[i]-problem1.h_opt[i-1])*problem1.problem.costs_accomm['housing'])/(problem1.problem.budget)) + ')' for i in range(1,len(problem1.h_opt))],\n",
    "       ['']+['Shelter']+[str(problem1.problem.data['initial_capacity']['shelter'])]+[str(int(round(problem1.s_opt[i],0))) + ' (' + '{:.01%}'.format(((problem1.s_opt[i]-problem1.s_opt[i-1])*problem1.problem.costs_accomm['shelter'])/(problem1.problem.budget)) + ')' for i in range(1,len(problem1.s_opt))],\n",
    "       ['$\\Phi_2$']+['Housing']+[str(problem2.problem.data['initial_capacity']['housing'])]+[str(int(round(problem2.h_opt[i],0))) + ' (' + '{:.01%}'.format(((problem2.h_opt[i]-problem2.h_opt[i-1])*problem2.problem.costs_accomm['housing'])/(problem2.problem.budget)) + ')' for i in range(1,len(problem2.h_opt))],\n",
    "       ['']+['Shelter']+[str(problem2.problem.data['initial_capacity']['shelter'])]+[str(int(round(problem2.s_opt[i],0))) + ' (' + '{:.01%}'.format(((problem2.s_opt[i]-problem2.s_opt[i-1])*problem2.problem.costs_accomm['shelter'])/(problem2.problem.budget)) + ')' for i in range(1,len(problem2.s_opt))]]\n",
    "df = pd.DataFrame(columns=['Problem','Building Type','Initial Capacity', 'Year 1','Year 2','Year 3','Year 4','Year 5'], data=df)\n",
    "df.style.hide()"
   ]
  },
  {
   "cell_type": "code",
   "execution_count": null,
   "id": "2224b788-9907-40e6-8080-7572905d771f",
   "metadata": {},
   "outputs": [],
   "source": []
  },
  {
   "cell_type": "markdown",
   "id": "aaa27e02-d4bd-442e-b159-60ed8481e601",
   "metadata": {},
   "source": [
    "#### Comparing the unsheltered population for the 3 solutions"
   ]
  },
  {
   "cell_type": "code",
   "execution_count": null,
   "id": "9e22faf7-a13e-4d40-a28a-fc16a313ed62",
   "metadata": {},
   "outputs": [],
   "source": [
    "# Modeling\n",
    "model0 = fl.FluidFlowModel(data, {'housing':problem0.h_opt,'shelter':problem0.s_opt}, modeling_options['T_a'], modeling_options['T_b'])\n",
    "model1 = fl.FluidFlowModel(data, {'housing':problem1.h_opt,'shelter':problem1.s_opt}, modeling_options['T_a'], modeling_options['T_b'])\n",
    "model2 = fl.FluidFlowModel(data, {'housing':problem2.h_opt,'shelter':problem2.s_opt}, modeling_options['T_a'], modeling_options['T_b'])\n",
    "\n",
    "T = [i/365 for i in range((modeling_options['T_a']+modeling_options['T_b'])*365)]\n",
    "\n",
    "model0.analyse(T)\n",
    "model1.analyse(T)\n",
    "model2.analyse(T)\n",
    "\n",
    "# Plotting\n",
    "fig, ax = plt.subplots()\n",
    "ymax = max(model0.unsh_t + model1.unsh_t + model2.unsh_t)\n",
    "x = [t/365 for t in range((modeling_options['T_a']+modeling_options['T_b'])*365)]\n",
    "ax.plot(x, model0.unsh_t, color = 'pink')\n",
    "ax.plot(x, model1.unsh_t, color = 'red')\n",
    "ax.plot(x, model2.unsh_t, color = 'darkred')\n",
    "ax.set(xlabel=\"$d/365$ (Time in years)\", ylabel='Number of people',\n",
    "       title='Number of people unsheltered')\n",
    "ax.legend([\"Optimal solution to $\\Phi_0$\", \"Optimal solution to $\\Phi_1$\", \"Optimal solution to $\\Phi_2$\"], loc=\"lower right\")\n",
    "ax.grid()\n",
    "ax.set_ylim(0,ymax*1.05)\n",
    "plt.show()"
   ]
  },
  {
   "cell_type": "markdown",
   "id": "08d23237-e329-482b-b368-c74b19b628eb",
   "metadata": {},
   "source": [
    "#### Checking the costs of optimal solutions"
   ]
  },
  {
   "cell_type": "code",
   "execution_count": null,
   "id": "d3d77035-9d87-47f5-b6ca-0a09b0297ea1",
   "metadata": {},
   "outputs": [],
   "source": [
    "def cost(problem):\n",
    "    costs = 0\n",
    "    for t in range(problem.problem.horizon_decision):\n",
    "        costs += (problem.h_opt[t+1]-problem.h_opt[t]) * problem.problem.costs_accomm['housing']\n",
    "        costs += (problem.s_opt[t+1]-problem.s_opt[t]) * problem.problem.costs_accomm['shelter']\n",
    "    return costs\n",
    "\n",
    "print(cost(problem0))\n",
    "print(cost(problem1))\n",
    "print(cost(problem2))"
   ]
  },
  {
   "cell_type": "markdown",
   "id": "6e31a7ac-7469-4792-8416-aa1e353f5c1d",
   "metadata": {},
   "source": [
    "#### Exploring different weights for penalty on shelter"
   ]
  },
  {
   "cell_type": "code",
   "execution_count": null,
   "id": "9e02984a-cb08-41d9-9361-db125cd14bea",
   "metadata": {},
   "outputs": [],
   "source": [
    "# Set up problem and solve\n",
    "problems = []\n",
    "models = []\n",
    "weights = [0.2,0.4,0.6,0.8] \n",
    "for w in weights:\n",
    "    problems.append(do.Phi2(data, modeling_options, 'phi2', c=w, shelter_mode = 3))\n",
    "    problems[-1].solve('ipopt', print = False)\n",
    "    models.append(problems[-1].problem.selected_model(problems[-1].problem.data, \n",
    "                                                      {'housing' : problems[-1].h_opt, 'shelter' : problems[-1].s_opt}, \n",
    "                                                      problems[-1].problem.horizon_decision, \n",
    "                                                      problems[-1].problem.horizon_extra_model))\n",
    "    models[-1].analyse(problems[-1].problem.horizon_model)"
   ]
  },
  {
   "cell_type": "code",
   "execution_count": null,
   "id": "37c994db-a7ae-4acf-aef0-d27643a77e9b",
   "metadata": {},
   "outputs": [],
   "source": [
    "fig, axs = plt.subplots(1, 4,  figsize=(10, 3))\n",
    "ymax = 0\n",
    "for i in range(len(models)):\n",
    "    ymax = max(ymax, max(models[i].model.h_t + models[i].model.sh_t + models[i].model.unsh_t))\n",
    "    x = [j/365 for j in range(problems[i].problem.horizon_model*365)]\n",
    "    axs[i].plot(x, models[i].model.h_t, color = 'green')\n",
    "    axs[i].plot(x, models[i].model.sh_t, color = 'orange')\n",
    "    axs[i].plot(x, models[i].model.unsh_t, color = 'red')\n",
    "    axs[i].set(title = 'w = ' + str(weights[i]))\n",
    "axs[i].legend([\"$h_d$\", \"$s_d$\", \"$u_d$\"], bbox_to_anchor=(1.1, 0.7))\n",
    "\n",
    "# formatting\n",
    "for ax in axs.flat:\n",
    "    ax.set(xlabel='t (yrs)', ylabel='Number of people')\n",
    "    ax.grid()\n",
    "    ax.set_ylim(0, ymax*1.05)\n",
    "    ax.label_outer()\n",
    "plt.show()"
   ]
  },
  {
   "cell_type": "code",
   "execution_count": null,
   "id": "8b9a8546-675b-483c-ad04-ed2150c9dab3",
   "metadata": {},
   "outputs": [],
   "source": [
    "# DES\n",
    "        'service_mean' : {'housing': 4.0, 'shelter': 0.0}, # in years\n",
    "        'arrival_rates' : [10.0]*5 + [6.0]*5,\n",
    "        'budget' : 200000000.0, # in dollars\n",
    "        'costs_accomm' : {'housing' : 30000.0, 'shelter' : 10000.0}, # cost in dollars per unit\n",
    "        'baseline_build' : 500} # how many housing units and shelter units we must build at least each year\n",
    "\n",
    "# Set modeliing options\n",
    "modeling_options = {'T_a' : 5, # in days: modelling and building\n",
    "                    'T_b' : 5, # in days: extra modelling following all building\n",
    "                    'model' : do.FluidModel}\n",
    "\n",
    "simulation_data = {\"T_a\":5,\n",
    " \"T_b\":5,\n",
    " \"initial_capacity\": {\"housing\": 40, \"shelter\": 15},\n",
    " \"initial_demand\": 120,\n",
    " \"service_mean\": {\"housing\": 4.0, \"shelter\": 0.25},\n",
    " \"service_dist_triangle\": {\"low\":0,\"mid\":6,\"high\":8},\n",
    " \"arrival_rates\" : [36.5]*5 + [(6/10)*36.5]*5\n",
    " \"solution\": {'housing':problem2.h_opt,'shelter':problem2.s_opt},\n",
    " \"max_in_system\":500,\n",
    " \"delta_t\":1,\n",
    " \"simulation_reps\":100,\n",
    " \"time_btwn_building\":0.0027397260273972603,\n",
    " \"simulation_build_time\":0,\n",
    " \"reentry_rate\":0.17,\n",
    " \"seed\":12345}\n",
    "\n",
    "s = sm.SimulationModel(simulation_data, simulation_data[\"solution\"])\n",
    "s.analyse()"
   ]
  }
 ],
 "metadata": {
  "kernelspec": {
   "display_name": "psor-paper-housing",
   "language": "python",
   "name": "psor-paper-housing"
  },
  "language_info": {
   "codemirror_mode": {
    "name": "ipython",
    "version": 3
   },
   "file_extension": ".py",
   "mimetype": "text/x-python",
   "name": "python",
   "nbconvert_exporter": "python",
   "pygments_lexer": "ipython3",
   "version": "3.13.2"
  }
 },
 "nbformat": 4,
 "nbformat_minor": 5
}
