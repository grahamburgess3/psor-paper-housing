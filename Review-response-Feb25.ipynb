{
 "cells": [
  {
   "cell_type": "markdown",
   "id": "75322ffc-53aa-44a7-a518-8e83dd36be09",
   "metadata": {
    "collapsed": false,
    "jupyter": {
     "outputs_hidden": false
    }
   },
   "source": [
    "## Responses to review comments (February 2025)"
   ]
  },
  {
   "cell_type": "code",
   "execution_count": 1,
   "id": "943c1c88-1943-409d-9b86-f5c94280d431",
   "metadata": {
    "collapsed": false,
    "jupyter": {
     "outputs_hidden": false
    }
   },
   "outputs": [
    {
     "name": "stderr",
     "output_type": "stream",
     "text": [
      "/home/burges26/.local/lib/python3.10/site-packages/matplotlib/projections/__init__.py:63: UserWarning: Unable to import Axes3D. This may be due to multiple versions of Matplotlib being installed (e.g. as a system package and as a pip package). As a result, the 3D projection is not available.\n",
      "  warnings.warn(\"Unable to import Axes3D. This may be due to multiple versions of \"\n"
     ]
    },
    {
     "ename": "ModuleNotFoundError",
     "evalue": "No module named 'pyomo'",
     "output_type": "error",
     "traceback": [
      "\u001b[0;31m---------------------------------------------------------------------------\u001b[0m",
      "\u001b[0;31mModuleNotFoundError\u001b[0m                       Traceback (most recent call last)",
      "Cell \u001b[0;32mIn[1], line 4\u001b[0m\n\u001b[1;32m      2\u001b[0m \u001b[38;5;28;01mimport\u001b[39;00m \u001b[38;5;21;01mfluid_flow_model\u001b[39;00m \u001b[38;5;28;01mas\u001b[39;00m \u001b[38;5;21;01mfl\u001b[39;00m\n\u001b[1;32m      3\u001b[0m \u001b[38;5;28;01mimport\u001b[39;00m \u001b[38;5;21;01msimulation_model\u001b[39;00m \u001b[38;5;28;01mas\u001b[39;00m \u001b[38;5;21;01msm\u001b[39;00m\n\u001b[0;32m----> 4\u001b[0m \u001b[38;5;28;01mimport\u001b[39;00m \u001b[38;5;21;01mdeterministic_optimisation\u001b[39;00m \u001b[38;5;28;01mas\u001b[39;00m \u001b[38;5;21;01mdo\u001b[39;00m\n\u001b[1;32m      5\u001b[0m \u001b[38;5;28;01mimport\u001b[39;00m \u001b[38;5;21;01mmatplotlib\u001b[39;00m\u001b[38;5;21;01m.\u001b[39;00m\u001b[38;5;21;01mpyplot\u001b[39;00m \u001b[38;5;28;01mas\u001b[39;00m \u001b[38;5;21;01mplt\u001b[39;00m\n\u001b[1;32m      6\u001b[0m \u001b[38;5;28;01mimport\u001b[39;00m \u001b[38;5;21;01mmath\u001b[39;00m\n",
      "File \u001b[0;32m~/GitHub/psor-paper-housing/deterministic_optimisation.py:3\u001b[0m\n\u001b[1;32m      1\u001b[0m \u001b[38;5;66;03m# Imports\u001b[39;00m\n\u001b[1;32m      2\u001b[0m \u001b[38;5;28;01mfrom\u001b[39;00m \u001b[38;5;21;01m__future__\u001b[39;00m \u001b[38;5;28;01mimport\u001b[39;00m division\n\u001b[0;32m----> 3\u001b[0m \u001b[38;5;28;01mimport\u001b[39;00m \u001b[38;5;21;01mpyomo\u001b[39;00m\u001b[38;5;21;01m.\u001b[39;00m\u001b[38;5;21;01menviron\u001b[39;00m \u001b[38;5;28;01mas\u001b[39;00m \u001b[38;5;21;01mpyo\u001b[39;00m\n\u001b[1;32m      4\u001b[0m \u001b[38;5;28;01mfrom\u001b[39;00m \u001b[38;5;21;01mpyomo\u001b[39;00m\u001b[38;5;21;01m.\u001b[39;00m\u001b[38;5;21;01mcore\u001b[39;00m \u001b[38;5;28;01mimport\u001b[39;00m Var\n\u001b[1;32m      5\u001b[0m \u001b[38;5;28;01mfrom\u001b[39;00m \u001b[38;5;21;01mpyomo\u001b[39;00m\u001b[38;5;21;01m.\u001b[39;00m\u001b[38;5;21;01mopt\u001b[39;00m \u001b[38;5;28;01mimport\u001b[39;00m SolverFactory\n",
      "\u001b[0;31mModuleNotFoundError\u001b[0m: No module named 'pyomo'"
     ]
    }
   ],
   "source": [
    "import json\n",
    "import fluid_flow_model as fl\n",
    "import simulation_model as sm\n",
    "import deterministic_optimisation as do\n",
    "import matplotlib.pyplot as plt\n",
    "import math\n",
    "import numpy as np\n",
    "import time"
   ]
  },
  {
   "cell_type": "code",
   "execution_count": 2,
   "id": "14253ec6-1133-4d3b-868a-4f44eb8a4c32",
   "metadata": {
    "collapsed": false,
    "jupyter": {
     "outputs_hidden": false
    }
   },
   "outputs": [
    {
     "ename": "NameError",
     "evalue": "name 'do' is not defined",
     "output_type": "error",
     "traceback": [
      "\u001b[0;31m---------------------------------------------------------------------------\u001b[0m",
      "\u001b[0;31mNameError\u001b[0m                                 Traceback (most recent call last)",
      "Cell \u001b[0;32mIn[2], line 13\u001b[0m\n\u001b[1;32m      2\u001b[0m data \u001b[38;5;241m=\u001b[39m {\u001b[38;5;124m'\u001b[39m\u001b[38;5;124minitial_capacity\u001b[39m\u001b[38;5;124m'\u001b[39m : {\u001b[38;5;124m'\u001b[39m\u001b[38;5;124mhousing\u001b[39m\u001b[38;5;124m'\u001b[39m:\u001b[38;5;241m4000\u001b[39m, \u001b[38;5;124m'\u001b[39m\u001b[38;5;124mshelter\u001b[39m\u001b[38;5;124m'\u001b[39m:\u001b[38;5;241m1500\u001b[39m},\n\u001b[1;32m      3\u001b[0m         \u001b[38;5;124m'\u001b[39m\u001b[38;5;124minitial_demand\u001b[39m\u001b[38;5;124m'\u001b[39m : \u001b[38;5;241m12000\u001b[39m, \u001b[38;5;66;03m# initial number of people in system\u001b[39;00m\n\u001b[1;32m      4\u001b[0m         \u001b[38;5;124m'\u001b[39m\u001b[38;5;124mservice_mean\u001b[39m\u001b[38;5;124m'\u001b[39m : {\u001b[38;5;124m'\u001b[39m\u001b[38;5;124mhousing\u001b[39m\u001b[38;5;124m'\u001b[39m: \u001b[38;5;241m4.0\u001b[39m, \u001b[38;5;124m'\u001b[39m\u001b[38;5;124mshelter\u001b[39m\u001b[38;5;124m'\u001b[39m: \u001b[38;5;241m0.0\u001b[39m}, \u001b[38;5;66;03m# in years\u001b[39;00m\n\u001b[0;32m   (...)\u001b[0m\n\u001b[1;32m      7\u001b[0m         \u001b[38;5;124m'\u001b[39m\u001b[38;5;124mcosts_accomm\u001b[39m\u001b[38;5;124m'\u001b[39m : {\u001b[38;5;124m'\u001b[39m\u001b[38;5;124mhousing\u001b[39m\u001b[38;5;124m'\u001b[39m : \u001b[38;5;241m30000.0\u001b[39m, \u001b[38;5;124m'\u001b[39m\u001b[38;5;124mshelter\u001b[39m\u001b[38;5;124m'\u001b[39m : \u001b[38;5;241m10000.0\u001b[39m}, \u001b[38;5;66;03m# cost in dollars per unit\u001b[39;00m\n\u001b[1;32m      8\u001b[0m         \u001b[38;5;124m'\u001b[39m\u001b[38;5;124mbaseline_build\u001b[39m\u001b[38;5;124m'\u001b[39m : \u001b[38;5;241m500\u001b[39m} \u001b[38;5;66;03m# how many housing units and shelter units we must build at least each year\u001b[39;00m\n\u001b[1;32m     10\u001b[0m \u001b[38;5;66;03m# Set modeliing options\u001b[39;00m\n\u001b[1;32m     11\u001b[0m modeling_options \u001b[38;5;241m=\u001b[39m {\u001b[38;5;124m'\u001b[39m\u001b[38;5;124mT_a\u001b[39m\u001b[38;5;124m'\u001b[39m : \u001b[38;5;241m5\u001b[39m, \u001b[38;5;66;03m# in days: modelling and building\u001b[39;00m\n\u001b[1;32m     12\u001b[0m                     \u001b[38;5;124m'\u001b[39m\u001b[38;5;124mT_b\u001b[39m\u001b[38;5;124m'\u001b[39m : \u001b[38;5;241m5\u001b[39m, \u001b[38;5;66;03m# in days: extra modelling following all building\u001b[39;00m\n\u001b[0;32m---> 13\u001b[0m                     \u001b[38;5;124m'\u001b[39m\u001b[38;5;124mmodel\u001b[39m\u001b[38;5;124m'\u001b[39m : \u001b[43mdo\u001b[49m\u001b[38;5;241m.\u001b[39mFluidModel}\n",
      "\u001b[0;31mNameError\u001b[0m: name 'do' is not defined"
     ]
    }
   ],
   "source": [
    "# Set data for system behaviour\n",
    "data = {'initial_capacity' : {'housing':4000, 'shelter':1500},\n",
    "        'initial_demand' : 12000, # initial number of people in system\n",
    "        'service_mean' : {'housing': 4.0, 'shelter': 0.0}, # in years\n",
    "        'arrival_rates' : [10.0]*5 + [6.0]*5,\n",
    "        'budget' : 200000000.0, # in dollars\n",
    "        'costs_accomm' : {'housing' : 30000.0, 'shelter' : 10000.0}, # cost in dollars per unit\n",
    "        'baseline_build' : 500} # how many housing units and shelter units we must build at least each year\n",
    "\n",
    "# Set modeliing options\n",
    "modeling_options = {'T_a' : 5, # in days: modelling and building\n",
    "                    'T_b' : 5, # in days: extra modelling following all building\n",
    "                    'model' : do.FluidModel}\n"
   ]
  },
  {
   "cell_type": "markdown",
   "id": "1d2a51a1-af64-48d0-8607-d07050ec15e8",
   "metadata": {
    "collapsed": false,
    "jupyter": {
     "outputs_hidden": false
    }
   },
   "source": [
    "#### Exploring different weights for penalty on shelter\n",
    "\n",
    "In our formulation $\\Phi_2$, our objective function is a quadratic combination of the unsheltered and sheltered queues over time. We weighted the squared sheltered queue at 0.3 (with no weight on the squared unsheltered queue) to give a meaningful penalty to building shelter but without undermining the improvement that a sheltered population represents compared to an unsheltered population. We use policy-based shape constraints to ensure that the housing stock increases (at a non-decreasing rate) during the 5 year planning horizon and the shelter stock increases and then decreases during the same horizon. Given the data we used (see paper for details), and the weight $w=0.3$ on the squared sheltered queue, we obtain the following optimal solution. "
   ]
  },
  {
   "cell_type": "code",
   "execution_count": 3,
   "id": "4edb830f-56c4-4a40-959a-b8dc329fe25c",
   "metadata": {
    "collapsed": false,
    "jupyter": {
     "outputs_hidden": false
    }
   },
   "outputs": [
    {
     "ename": "NameError",
     "evalue": "name 'do' is not defined",
     "output_type": "error",
     "traceback": [
      "\u001b[0;31m---------------------------------------------------------------------------\u001b[0m",
      "\u001b[0;31mNameError\u001b[0m                                 Traceback (most recent call last)",
      "Cell \u001b[0;32mIn[3], line 2\u001b[0m\n\u001b[1;32m      1\u001b[0m \u001b[38;5;66;03m# Set up problem and solve\u001b[39;00m\n\u001b[0;32m----> 2\u001b[0m problem2 \u001b[38;5;241m=\u001b[39m \u001b[43mdo\u001b[49m\u001b[38;5;241m.\u001b[39mPhi2(data, modeling_options, \u001b[38;5;124m'\u001b[39m\u001b[38;5;124mphi2\u001b[39m\u001b[38;5;124m'\u001b[39m, c\u001b[38;5;241m=\u001b[39m\u001b[38;5;241m0.3\u001b[39m, shelter_mode \u001b[38;5;241m=\u001b[39m \u001b[38;5;241m3\u001b[39m)\n\u001b[1;32m      3\u001b[0m tic \u001b[38;5;241m=\u001b[39m time\u001b[38;5;241m.\u001b[39mperf_counter()\n\u001b[1;32m      4\u001b[0m problem2\u001b[38;5;241m.\u001b[39msolve(\u001b[38;5;124m'\u001b[39m\u001b[38;5;124mipopt\u001b[39m\u001b[38;5;124m'\u001b[39m)\n",
      "\u001b[0;31mNameError\u001b[0m: name 'do' is not defined"
     ]
    }
   ],
   "source": [
    "# Set up problem and solve\n",
    "problem2 = do.Phi2(data, modeling_options, 'phi2', c=0.3, shelter_mode = 3)\n",
    "tic = time.perf_counter()\n",
    "problem2.solve('ipopt')\n",
    "toc = time.perf_counter()\n",
    "print('solved in '+str(toc-tic) + ' seconds.')"
   ]
  },
  {
   "cell_type": "markdown",
   "id": "d3e31300-46b9-493d-9df7-2c0204e86b27",
   "metadata": {
    "collapsed": false
   },
   "source": [
    "It was noted in the review that our results are likely to change with a different choice of $w$, which is of course true. Below we explore these changes, by choosing a range of weights $w$ from $0.2$ to $0.8$. Note: a weight too low could encourage so much shelter to be built that our unsheltered queue would vanish which is unlikely in practice and violates our assumption of shelter and housing always being busy. "
   ]
  },
  {
   "cell_type": "code",
   "execution_count": 4,
   "id": "ffe10dc0-5522-4f1f-a024-386a3250fc2b",
   "metadata": {
    "collapsed": false,
    "jupyter": {
     "outputs_hidden": false
    }
   },
   "outputs": [
    {
     "ename": "NameError",
     "evalue": "name 'do' is not defined",
     "output_type": "error",
     "traceback": [
      "\u001b[0;31m---------------------------------------------------------------------------\u001b[0m",
      "\u001b[0;31mNameError\u001b[0m                                 Traceback (most recent call last)",
      "Cell \u001b[0;32mIn[4], line 6\u001b[0m\n\u001b[1;32m      4\u001b[0m weights \u001b[38;5;241m=\u001b[39m [\u001b[38;5;241m0.2\u001b[39m,\u001b[38;5;241m0.4\u001b[39m,\u001b[38;5;241m0.6\u001b[39m,\u001b[38;5;241m0.8\u001b[39m] \n\u001b[1;32m      5\u001b[0m \u001b[38;5;28;01mfor\u001b[39;00m w \u001b[38;5;129;01min\u001b[39;00m weights:\n\u001b[0;32m----> 6\u001b[0m     problems\u001b[38;5;241m.\u001b[39mappend(\u001b[43mdo\u001b[49m\u001b[38;5;241m.\u001b[39mPhi2(data, modeling_options, \u001b[38;5;124m'\u001b[39m\u001b[38;5;124mphi2\u001b[39m\u001b[38;5;124m'\u001b[39m, c\u001b[38;5;241m=\u001b[39mw, shelter_mode \u001b[38;5;241m=\u001b[39m \u001b[38;5;241m3\u001b[39m))\n\u001b[1;32m      7\u001b[0m     problems[\u001b[38;5;241m-\u001b[39m\u001b[38;5;241m1\u001b[39m]\u001b[38;5;241m.\u001b[39msolve(\u001b[38;5;124m'\u001b[39m\u001b[38;5;124mipopt\u001b[39m\u001b[38;5;124m'\u001b[39m, \u001b[38;5;28mprint\u001b[39m \u001b[38;5;241m=\u001b[39m \u001b[38;5;28;01mFalse\u001b[39;00m)\n\u001b[1;32m      8\u001b[0m     models\u001b[38;5;241m.\u001b[39mappend(problems[\u001b[38;5;241m-\u001b[39m\u001b[38;5;241m1\u001b[39m]\u001b[38;5;241m.\u001b[39mproblem\u001b[38;5;241m.\u001b[39mselected_model(problems[\u001b[38;5;241m-\u001b[39m\u001b[38;5;241m1\u001b[39m]\u001b[38;5;241m.\u001b[39mproblem\u001b[38;5;241m.\u001b[39mdata, \n\u001b[1;32m      9\u001b[0m                                                       {\u001b[38;5;124m'\u001b[39m\u001b[38;5;124mhousing\u001b[39m\u001b[38;5;124m'\u001b[39m : problems[\u001b[38;5;241m-\u001b[39m\u001b[38;5;241m1\u001b[39m]\u001b[38;5;241m.\u001b[39mh_opt, \u001b[38;5;124m'\u001b[39m\u001b[38;5;124mshelter\u001b[39m\u001b[38;5;124m'\u001b[39m : problems[\u001b[38;5;241m-\u001b[39m\u001b[38;5;241m1\u001b[39m]\u001b[38;5;241m.\u001b[39ms_opt}, \n\u001b[1;32m     10\u001b[0m                                                       problems[\u001b[38;5;241m-\u001b[39m\u001b[38;5;241m1\u001b[39m]\u001b[38;5;241m.\u001b[39mproblem\u001b[38;5;241m.\u001b[39mhorizon_decision, \n\u001b[1;32m     11\u001b[0m                                                       problems[\u001b[38;5;241m-\u001b[39m\u001b[38;5;241m1\u001b[39m]\u001b[38;5;241m.\u001b[39mproblem\u001b[38;5;241m.\u001b[39mhorizon_extra_model))\n",
      "\u001b[0;31mNameError\u001b[0m: name 'do' is not defined"
     ]
    }
   ],
   "source": [
    "# Set up problem and solve\n",
    "problems = []\n",
    "models = []\n",
    "weights = [0.2,0.4,0.6,0.8] \n",
    "for w in weights:\n",
    "    problems.append(do.Phi2(data, modeling_options, 'phi2', c=w, shelter_mode = 3))\n",
    "    problems[-1].solve('ipopt', print = False)\n",
    "    models.append(problems[-1].problem.selected_model(problems[-1].problem.data, \n",
    "                                                      {'housing' : problems[-1].h_opt, 'shelter' : problems[-1].s_opt}, \n",
    "                                                      problems[-1].problem.horizon_decision, \n",
    "                                                      problems[-1].problem.horizon_extra_model))\n",
    "    models[-1].analyse(problems[-1].problem.horizon_model)"
   ]
  },
  {
   "cell_type": "code",
   "execution_count": 5,
   "id": "81ebcda3-8f07-4b2c-a48a-a5e49bf2eb80",
   "metadata": {
    "collapsed": false,
    "jupyter": {
     "outputs_hidden": false
    }
   },
   "outputs": [
    {
     "ename": "NameError",
     "evalue": "name 'plt' is not defined",
     "output_type": "error",
     "traceback": [
      "\u001b[0;31m---------------------------------------------------------------------------\u001b[0m",
      "\u001b[0;31mNameError\u001b[0m                                 Traceback (most recent call last)",
      "Cell \u001b[0;32mIn[5], line 1\u001b[0m\n\u001b[0;32m----> 1\u001b[0m fig, axs \u001b[38;5;241m=\u001b[39m \u001b[43mplt\u001b[49m\u001b[38;5;241m.\u001b[39msubplots(\u001b[38;5;241m1\u001b[39m, \u001b[38;5;241m4\u001b[39m,  figsize\u001b[38;5;241m=\u001b[39m(\u001b[38;5;241m10\u001b[39m, \u001b[38;5;241m3\u001b[39m))\n\u001b[1;32m      2\u001b[0m ymax \u001b[38;5;241m=\u001b[39m \u001b[38;5;241m0\u001b[39m\n\u001b[1;32m      3\u001b[0m \u001b[38;5;28;01mfor\u001b[39;00m i \u001b[38;5;129;01min\u001b[39;00m \u001b[38;5;28mrange\u001b[39m(\u001b[38;5;28mlen\u001b[39m(models)):\n",
      "\u001b[0;31mNameError\u001b[0m: name 'plt' is not defined"
     ]
    }
   ],
   "source": [
    "fig, axs = plt.subplots(1, 4,  figsize=(10, 3))\n",
    "ymax = 0\n",
    "for i in range(len(models)):\n",
    "    ymax = max(ymax, max(models[i].model.h_t + models[i].model.sh_t + models[i].model.unsh_t))\n",
    "    x = [j/365 for j in range(problems[i].problem.horizon_model*365)]\n",
    "    axs[i].plot(x, models[i].model.h_t, color = 'green')\n",
    "    axs[i].plot(x, models[i].model.sh_t, color = 'orange')\n",
    "    axs[i].plot(x, models[i].model.unsh_t, color = 'red')\n",
    "    axs[i].set(title = 'w = ' + str(weights[i]))\n",
    "axs[i].legend([\"$h_d$\", \"$s_d$\", \"$u_d$\"], bbox_to_anchor=(1.1, 0.7))\n",
    "\n",
    "# formatting\n",
    "for ax in axs.flat:\n",
    "    ax.set(xlabel='t (yrs)', ylabel='Number of people')\n",
    "    ax.grid()\n",
    "    ax.set_ylim(0, ymax*1.05)\n",
    "    ax.label_outer()\n",
    "plt.show()"
   ]
  },
  {
   "cell_type": "markdown",
   "id": "ca042a06-87bd-4a96-9add-7c467c0b8db4",
   "metadata": {
    "collapsed": false
   },
   "source": [
    "We see with these results that by increasing $w$, it is optimal to not ramp up shelter so much, and to decomission so that the final shelter capacity is closer to the initial shelter capacity. We also note that by increasing $w$, the optimal shelter capacity is less variable between the initial ramp up (year $1$) and the final decomission (year $5$). The result of less shelter is two-fold. Firstly, our unsheltered queue does not enjoy such a large decrease as shelter increases less. Secondly, we can afford to build more houses so by the end of the planning horizon, our overall service rate is higher and the unsheltered queue can reduce more quickly between years $5$ and $10$. The total unsheltered queue is roughly the same by year $10$ for all weights, but we would expect that beyond year $10$, greater housing levels would lead to greater decreases in the unsheltered queue. \n",
    "\n",
    "#### Discrete-event simulation of optimal solution\n",
    "\n",
    "We have developed a discrete-event simulation (DES) model of the flow of people through the homeless care system in Alameda County. This model captures stochasticity associated with the arrival and service processes. We model inter-arrival times as exponential and service times in housing as triangular. We have matched the mean of these distributions with the fixed arrival and service rates in the fluid model. DES models are capable of handling many real-world complexities which we do not model here. However, one key difference in the DES is the fact that when a shelter is to be decomissioned, the resident stays in shelter until a house becomes available for them, before that shelter is removed from the system. Below we illustrate the outputs (including $10^{\\text{th}}-90^{\\text{th}}$ percentile range) after $100$ simulation replications. "
   ]
  },
  {
   "cell_type": "code",
   "execution_count": 6,
   "id": "47f7bb61-379c-4467-812c-294fd80af13d",
   "metadata": {
    "collapsed": false
   },
   "outputs": [
    {
     "ename": "NameError",
     "evalue": "name 'problem2' is not defined",
     "output_type": "error",
     "traceback": [
      "\u001b[0;31m---------------------------------------------------------------------------\u001b[0m",
      "\u001b[0;31mNameError\u001b[0m                                 Traceback (most recent call last)",
      "Cell \u001b[0;32mIn[6], line 8\u001b[0m\n\u001b[1;32m      1\u001b[0m simulation_data \u001b[38;5;241m=\u001b[39m {\u001b[38;5;124m\"\u001b[39m\u001b[38;5;124mT_a\u001b[39m\u001b[38;5;124m\"\u001b[39m:\u001b[38;5;241m10\u001b[39m\u001b[38;5;241m-\u001b[39m(\u001b[38;5;241m1\u001b[39m\u001b[38;5;241m/\u001b[39m\u001b[38;5;241m365\u001b[39m),\n\u001b[1;32m      2\u001b[0m  \u001b[38;5;124m\"\u001b[39m\u001b[38;5;124mT_b\u001b[39m\u001b[38;5;124m\"\u001b[39m:\u001b[38;5;241m0\u001b[39m,\n\u001b[1;32m      3\u001b[0m  \u001b[38;5;124m\"\u001b[39m\u001b[38;5;124minitial_capacity\u001b[39m\u001b[38;5;124m\"\u001b[39m: {\u001b[38;5;124m\"\u001b[39m\u001b[38;5;124mhousing\u001b[39m\u001b[38;5;124m\"\u001b[39m: \u001b[38;5;241m40\u001b[39m, \u001b[38;5;124m\"\u001b[39m\u001b[38;5;124mshelter\u001b[39m\u001b[38;5;124m\"\u001b[39m: \u001b[38;5;241m15\u001b[39m},\n\u001b[1;32m      4\u001b[0m  \u001b[38;5;124m\"\u001b[39m\u001b[38;5;124minitial_demand\u001b[39m\u001b[38;5;124m\"\u001b[39m: \u001b[38;5;241m120\u001b[39m,\n\u001b[1;32m      5\u001b[0m  \u001b[38;5;124m\"\u001b[39m\u001b[38;5;124mservice_mean\u001b[39m\u001b[38;5;124m\"\u001b[39m: {\u001b[38;5;124m\"\u001b[39m\u001b[38;5;124mhousing\u001b[39m\u001b[38;5;124m\"\u001b[39m: (\u001b[38;5;241m0\u001b[39m\u001b[38;5;241m+\u001b[39m\u001b[38;5;241m6\u001b[39m\u001b[38;5;241m+\u001b[39m\u001b[38;5;241m8\u001b[39m)\u001b[38;5;241m/\u001b[39m\u001b[38;5;241m3\u001b[39m, \u001b[38;5;124m\"\u001b[39m\u001b[38;5;124mshelter\u001b[39m\u001b[38;5;124m\"\u001b[39m: \u001b[38;5;241m0.0\u001b[39m},\n\u001b[1;32m      6\u001b[0m  \u001b[38;5;124m\"\u001b[39m\u001b[38;5;124mservice_dist_triangle\u001b[39m\u001b[38;5;124m\"\u001b[39m: {\u001b[38;5;124m\"\u001b[39m\u001b[38;5;124mlow\u001b[39m\u001b[38;5;124m\"\u001b[39m:\u001b[38;5;241m0\u001b[39m,\u001b[38;5;124m\"\u001b[39m\u001b[38;5;124mmid\u001b[39m\u001b[38;5;124m\"\u001b[39m:\u001b[38;5;241m6\u001b[39m,\u001b[38;5;124m\"\u001b[39m\u001b[38;5;124mhigh\u001b[39m\u001b[38;5;124m\"\u001b[39m:\u001b[38;5;241m8\u001b[39m},\n\u001b[1;32m      7\u001b[0m  \u001b[38;5;124m\"\u001b[39m\u001b[38;5;124marrival_rates\u001b[39m\u001b[38;5;124m\"\u001b[39m : [\u001b[38;5;241m36.5\u001b[39m]\u001b[38;5;241m*\u001b[39m\u001b[38;5;241m5\u001b[39m \u001b[38;5;241m+\u001b[39m [(\u001b[38;5;241m6\u001b[39m\u001b[38;5;241m/\u001b[39m\u001b[38;5;241m10\u001b[39m)\u001b[38;5;241m*\u001b[39m\u001b[38;5;241m36.5\u001b[39m]\u001b[38;5;241m*\u001b[39m\u001b[38;5;241m5\u001b[39m,\n\u001b[0;32m----> 8\u001b[0m  \u001b[38;5;124m\"\u001b[39m\u001b[38;5;124msolution\u001b[39m\u001b[38;5;124m\"\u001b[39m: {\u001b[38;5;124m'\u001b[39m\u001b[38;5;124mhousing\u001b[39m\u001b[38;5;124m'\u001b[39m:[h\u001b[38;5;241m/\u001b[39m\u001b[38;5;241m100\u001b[39m \u001b[38;5;28;01mfor\u001b[39;00m h \u001b[38;5;129;01min\u001b[39;00m \u001b[43mproblem2\u001b[49m\u001b[38;5;241m.\u001b[39mh_opt[\u001b[38;5;241m1\u001b[39m:\u001b[38;5;241m6\u001b[39m]]\u001b[38;5;241m+\u001b[39m[problem2\u001b[38;5;241m.\u001b[39mh_opt[\u001b[38;5;241m5\u001b[39m]\u001b[38;5;241m/\u001b[39m\u001b[38;5;241m100\u001b[39m]\u001b[38;5;241m*\u001b[39m\u001b[38;5;241m5\u001b[39m,\u001b[38;5;124m'\u001b[39m\u001b[38;5;124mshelter\u001b[39m\u001b[38;5;124m'\u001b[39m:[s\u001b[38;5;241m/\u001b[39m\u001b[38;5;241m100\u001b[39m \u001b[38;5;28;01mfor\u001b[39;00m s \u001b[38;5;129;01min\u001b[39;00m problem2\u001b[38;5;241m.\u001b[39ms_opt[\u001b[38;5;241m1\u001b[39m:\u001b[38;5;241m6\u001b[39m]]\u001b[38;5;241m+\u001b[39m[problem2\u001b[38;5;241m.\u001b[39ms_opt[\u001b[38;5;241m5\u001b[39m]\u001b[38;5;241m/\u001b[39m\u001b[38;5;241m100\u001b[39m]\u001b[38;5;241m*\u001b[39m\u001b[38;5;241m5\u001b[39m},\n\u001b[1;32m      9\u001b[0m  \u001b[38;5;124m\"\u001b[39m\u001b[38;5;124mmax_in_system\u001b[39m\u001b[38;5;124m\"\u001b[39m:\u001b[38;5;241m500\u001b[39m,\n\u001b[1;32m     10\u001b[0m  \u001b[38;5;124m\"\u001b[39m\u001b[38;5;124mdelta_t\u001b[39m\u001b[38;5;124m\"\u001b[39m:\u001b[38;5;241m1\u001b[39m,\n\u001b[1;32m     11\u001b[0m  \u001b[38;5;124m\"\u001b[39m\u001b[38;5;124msimulation_reps\u001b[39m\u001b[38;5;124m\"\u001b[39m:\u001b[38;5;241m100\u001b[39m,\n\u001b[1;32m     12\u001b[0m  \u001b[38;5;124m\"\u001b[39m\u001b[38;5;124mtime_btwn_building\u001b[39m\u001b[38;5;124m\"\u001b[39m:\u001b[38;5;241m1\u001b[39m\u001b[38;5;241m/\u001b[39m\u001b[38;5;241m365\u001b[39m,\n\u001b[1;32m     13\u001b[0m  \u001b[38;5;124m\"\u001b[39m\u001b[38;5;124msimulation_build_time\u001b[39m\u001b[38;5;124m\"\u001b[39m:\u001b[38;5;241m0\u001b[39m,\n\u001b[1;32m     14\u001b[0m  \u001b[38;5;124m\"\u001b[39m\u001b[38;5;124mreentry_rate\u001b[39m\u001b[38;5;124m\"\u001b[39m:\u001b[38;5;241m0.0\u001b[39m,\n\u001b[1;32m     15\u001b[0m  \u001b[38;5;124m\"\u001b[39m\u001b[38;5;124mseed\u001b[39m\u001b[38;5;124m\"\u001b[39m:\u001b[38;5;241m12345\u001b[39m}\n\u001b[1;32m     17\u001b[0m \u001b[38;5;28;01mwith\u001b[39;00m \u001b[38;5;28mopen\u001b[39m(\u001b[38;5;124m'\u001b[39m\u001b[38;5;124mdata_simulation.json\u001b[39m\u001b[38;5;124m'\u001b[39m) \u001b[38;5;28;01mas\u001b[39;00m json_file:\n\u001b[1;32m     18\u001b[0m     data \u001b[38;5;241m=\u001b[39m json\u001b[38;5;241m.\u001b[39mload(json_file)\n",
      "\u001b[0;31mNameError\u001b[0m: name 'problem2' is not defined"
     ]
    }
   ],
   "source": [
    "simulation_data = {\"T_a\":10-(1/365),\n",
    " \"T_b\":0,\n",
    " \"initial_capacity\": {\"housing\": 40, \"shelter\": 15},\n",
    " \"initial_demand\": 120,\n",
    " \"service_mean\": {\"housing\": (0+6+8)/3, \"shelter\": 0.0},\n",
    " \"service_dist_triangle\": {\"low\":0,\"mid\":6,\"high\":8},\n",
    " \"arrival_rates\" : [36.5]*5 + [(6/10)*36.5]*5,\n",
    " \"solution\": {'housing':[h/100 for h in problem2.h_opt[1:6]]+[problem2.h_opt[5]/100]*5,'shelter':[s/100 for s in problem2.s_opt[1:6]]+[problem2.s_opt[5]/100]*5},\n",
    " \"max_in_system\":500,\n",
    " \"delta_t\":1,\n",
    " \"simulation_reps\":100,\n",
    " \"time_btwn_building\":1/365,\n",
    " \"simulation_build_time\":0,\n",
    " \"reentry_rate\":0.0,\n",
    " \"seed\":12345}\n",
    "\n",
    "with open('data_simulation.json') as json_file:\n",
    "    data = json.load(json_file)\n",
    "\n",
    "solution = data['solution']\n",
    "\n",
    "s = sm.SimulationModel(simulation_data, simulation_data['solution'])\n",
    "s.analyse()\n",
    "s.plot()"
   ]
  },
  {
   "cell_type": "code",
   "execution_count": null,
   "id": "ec48bc66-757e-44a7-90c2-40b2b65add06",
   "metadata": {
    "collapsed": false
   },
   "outputs": [],
   "source": []
  }
 ],
 "metadata": {
  "kernelspec": {
   "argv": [
    "python",
    "-m",
    "ipykernel_launcher",
    "-f",
    "{connection_file}"
   ],
   "display_name": "Python 3 (ipykernel)",
   "env": null,
   "interrupt_mode": "signal",
   "language": "python",
   "metadata": {
    "debugger": true
   },
   "name": "python3"
  },
  "language_info": {
   "codemirror_mode": {
    "name": "ipython",
    "version": 3
   },
   "file_extension": ".py",
   "mimetype": "text/x-python",
   "name": "python",
   "nbconvert_exporter": "python",
   "pygments_lexer": "ipython3",
   "version": "3.13.2"
  },
  "name": "Review-response-Feb25.ipynb"
 },
 "nbformat": 4,
 "nbformat_minor": 5
}
